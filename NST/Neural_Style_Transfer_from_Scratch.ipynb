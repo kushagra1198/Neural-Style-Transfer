{
  "nbformat": 4,
  "nbformat_minor": 0,
  "metadata": {
    "kernelspec": {
      "display_name": "Python 3",
      "language": "python",
      "name": "python3"
    },
    "language_info": {
      "codemirror_mode": {
        "name": "ipython",
        "version": 3
      },
      "file_extension": ".py",
      "mimetype": "text/x-python",
      "name": "python",
      "nbconvert_exporter": "python",
      "pygments_lexer": "ipython3",
      "version": "3.6.0"
    },
    "colab": {
      "name": "Neural Style Transfer from Scratch.ipynb",
      "provenance": []
    }
  },
  "cells": [
    {
      "cell_type": "code",
      "metadata": {
        "id": "JLMIRtO1RKwq",
        "colab_type": "code",
        "colab": {}
      },
      "source": [
        "import os\n",
        "import sys\n",
        "import scipy.io\n",
        "import scipy.misc\n",
        "import matplotlib.pyplot as plt\n",
        "from matplotlib.pyplot import imshow\n",
        "from PIL import Image\n",
        "from nst_utils import *\n",
        "import numpy as np\n",
        "import tensorflow as tf\n",
        "\n",
        "%matplotlib inline"
      ],
      "execution_count": 0,
      "outputs": []
    },
    {
      "cell_type": "code",
      "metadata": {
        "id": "EDewv7hgRKxV",
        "colab_type": "code",
        "colab": {},
        "outputId": "94f5cdc7-2eab-460d-b2bf-269ee7e392ff"
      },
      "source": [
        "model = load_vgg_model(\"pretrained-model/imagenet-vgg-verydeep-19.mat\")\n",
        "print(model)"
      ],
      "execution_count": 0,
      "outputs": [
        {
          "output_type": "stream",
          "text": [
            "{'input': <tf.Variable 'Variable:0' shape=(1, 300, 400, 3) dtype=float32_ref>, 'conv1_1': <tf.Tensor 'Relu:0' shape=(1, 300, 400, 64) dtype=float32>, 'conv1_2': <tf.Tensor 'Relu_1:0' shape=(1, 300, 400, 64) dtype=float32>, 'avgpool1': <tf.Tensor 'AvgPool:0' shape=(1, 150, 200, 64) dtype=float32>, 'conv2_1': <tf.Tensor 'Relu_2:0' shape=(1, 150, 200, 128) dtype=float32>, 'conv2_2': <tf.Tensor 'Relu_3:0' shape=(1, 150, 200, 128) dtype=float32>, 'avgpool2': <tf.Tensor 'AvgPool_1:0' shape=(1, 75, 100, 128) dtype=float32>, 'conv3_1': <tf.Tensor 'Relu_4:0' shape=(1, 75, 100, 256) dtype=float32>, 'conv3_2': <tf.Tensor 'Relu_5:0' shape=(1, 75, 100, 256) dtype=float32>, 'conv3_3': <tf.Tensor 'Relu_6:0' shape=(1, 75, 100, 256) dtype=float32>, 'conv3_4': <tf.Tensor 'Relu_7:0' shape=(1, 75, 100, 256) dtype=float32>, 'avgpool3': <tf.Tensor 'AvgPool_2:0' shape=(1, 38, 50, 256) dtype=float32>, 'conv4_1': <tf.Tensor 'Relu_8:0' shape=(1, 38, 50, 512) dtype=float32>, 'conv4_2': <tf.Tensor 'Relu_9:0' shape=(1, 38, 50, 512) dtype=float32>, 'conv4_3': <tf.Tensor 'Relu_10:0' shape=(1, 38, 50, 512) dtype=float32>, 'conv4_4': <tf.Tensor 'Relu_11:0' shape=(1, 38, 50, 512) dtype=float32>, 'avgpool4': <tf.Tensor 'AvgPool_3:0' shape=(1, 19, 25, 512) dtype=float32>, 'conv5_1': <tf.Tensor 'Relu_12:0' shape=(1, 19, 25, 512) dtype=float32>, 'conv5_2': <tf.Tensor 'Relu_13:0' shape=(1, 19, 25, 512) dtype=float32>, 'conv5_3': <tf.Tensor 'Relu_14:0' shape=(1, 19, 25, 512) dtype=float32>, 'conv5_4': <tf.Tensor 'Relu_15:0' shape=(1, 19, 25, 512) dtype=float32>, 'avgpool5': <tf.Tensor 'AvgPool_4:0' shape=(1, 10, 13, 512) dtype=float32>}\n"
          ],
          "name": "stdout"
        }
      ]
    },
    {
      "cell_type": "code",
      "metadata": {
        "id": "1_pJ_oI5RKzE",
        "colab_type": "code",
        "colab": {}
      },
      "source": [
        "\n",
        "def compute_content_cost(a_C, a_G):\n",
        "    \"\"\"Computes the content cost\n",
        "    \"\"\"\n",
        "    m, n_H, n_W, n_C =  a_G.get_shape().as_list()\n",
        "    a_C_unrolled = tf.transpose(tf.reshape(a_C, [n_H * n_W, n_C]))\n",
        "    a_G_unrolled = tf.transpose(tf.reshape(a_G, [n_H * n_W, n_C]))\n",
        "    J_content = tf.reduce_sum(tf.square(tf.subtract(a_G_unrolled, a_C_unrolled))) * (1 / (4 * n_H * n_W * n_C)) \n",
        "    return J_content"
      ],
      "execution_count": 0,
      "outputs": []
    },
    {
      "cell_type": "code",
      "metadata": {
        "id": "UFxGRX9GRK1k",
        "colab_type": "code",
        "colab": {}
      },
      "source": [
        "def compute_layer_style_cost(a_S, a_G):\n",
        "    m, n_H, n_W, n_C = a_G.get_shape().as_list()\n",
        "    a_S = tf.transpose(tf.reshape(a_S, [n_H * n_W, n_C]))\n",
        "    a_G = tf.transpose(tf.reshape(a_G, [n_H * n_W, n_C]))\n",
        "    GS = gram_matrix(a_S)\n",
        "    GG = gram_matrix(a_G)\n",
        "    J_style_layer = (1 / (4 * n_C **2 * (n_H * n_W) **2)) * tf.reduce_sum(tf.square(tf.subtract(GS, GG)))    \n",
        "    return J_style_layer"
      ],
      "execution_count": 0,
      "outputs": []
    },
    {
      "cell_type": "code",
      "metadata": {
        "id": "EbxsqwMDSYGX",
        "colab_type": "code",
        "colab": {}
      },
      "source": [
        "STYLE_LAYERS = [\n",
        "    ('conv1_1', 0.2),\n",
        "    ('conv2_1', 0.2),\n",
        "    ('conv3_1', 0.2),\n",
        "    ('conv4_1', 0.2),\n",
        "    ('conv5_1', 0.2)]"
      ],
      "execution_count": 0,
      "outputs": []
    },
    {
      "cell_type": "code",
      "metadata": {
        "id": "Fo88ef61ScA3",
        "colab_type": "code",
        "colab": {}
      },
      "source": [
        "def compute_style_cost(model, STYLE_LAYERS):\n",
        "    \"\"\"\n",
        "    Computes the overall style cost from several chosen layers\n",
        "    \"\"\"\n",
        "    \n",
        "    J_style = 0\n",
        "\n",
        "    for layer_name, coeff in STYLE_LAYERS:\n",
        "        out = model[layer_name]\n",
        "        a_S = sess.run(out)\n",
        "        a_G = out\n",
        "        J_style_layer = compute_layer_style_cost(a_S, a_G)\n",
        "\n",
        "        J_style += coeff * J_style_layer\n",
        "\n",
        "    return J_style"
      ],
      "execution_count": 0,
      "outputs": []
    },
    {
      "cell_type": "code",
      "metadata": {
        "id": "c3ZoDIVqRK2u",
        "colab_type": "code",
        "colab": {}
      },
      "source": [
        "def total_cost(J_content, J_style, alpha = 10, beta = 40):\n",
        "    \"\"\"\n",
        "    Computes the total cost function\n",
        "    \"\"\"\n",
        "    J = alpha * J_content + beta * J_style    \n",
        "    return J"
      ],
      "execution_count": 0,
      "outputs": []
    },
    {
      "cell_type": "code",
      "metadata": {
        "id": "H5u2KcsuRK4I",
        "colab_type": "code",
        "colab": {}
      },
      "source": [
        "tf.reset_default_graph()\n",
        "sess = tf.InteractiveSession()"
      ],
      "execution_count": 0,
      "outputs": []
    },
    {
      "cell_type": "code",
      "metadata": {
        "id": "CU3Om2FoRK5C",
        "colab_type": "code",
        "colab": {}
      },
      "source": [
        "content_image = scipy.misc.imread(\"images/rsz_111.jpg\")\n",
        "content_image = reshape_and_normalize_image(content_image)\n",
        "style_image = scipy.misc.imread(\"images/drop-of-water.jpg\")\n",
        "style_image = reshape_and_normalize_image(style_image)\n",
        "generated_image = generate_noise_image(content_image)"
      ],
      "execution_count": 0,
      "outputs": []
    },
    {
      "cell_type": "code",
      "metadata": {
        "id": "2CKICvBRRK8C",
        "colab_type": "code",
        "colab": {}
      },
      "source": [
        "model = load_vgg_model(\"pretrained-model/imagenet-vgg-verydeep-19.mat\")"
      ],
      "execution_count": 0,
      "outputs": []
    },
    {
      "cell_type": "code",
      "metadata": {
        "id": "N5XV0JbIRK8v",
        "colab_type": "code",
        "colab": {}
      },
      "source": [
        "sess.run(model['input'].assign(content_image))\n",
        "out = model['conv4_2']\n",
        "a_C = sess.run(out)\n",
        "a_G = out\n",
        "J_content = compute_content_cost(a_C, a_G)"
      ],
      "execution_count": 0,
      "outputs": []
    },
    {
      "cell_type": "code",
      "metadata": {
        "id": "54EUVMEpRK9U",
        "colab_type": "code",
        "colab": {}
      },
      "source": [
        "sess.run(model['input'].assign(style_image))\n",
        "J_style = compute_style_cost(model, STYLE_LAYERS)\n",
        "J = total_cost(J_content, J_style)"
      ],
      "execution_count": 0,
      "outputs": []
    },
    {
      "cell_type": "code",
      "metadata": {
        "id": "yxDuc6v-RK-i",
        "colab_type": "code",
        "colab": {}
      },
      "source": [
        "optimizer = tf.train.AdamOptimizer(2.0)\n",
        "train_step = optimizer.minimize(J)"
      ],
      "execution_count": 0,
      "outputs": []
    },
    {
      "cell_type": "code",
      "metadata": {
        "id": "k1CakWeYRK-7",
        "colab_type": "code",
        "colab": {}
      },
      "source": [
        "def model_nn(sess, input_image, num_iterations = 100):\n",
        "    \n",
        "    sess.run(tf.global_variables_initializer())\n",
        "    generated_image = sess.run(model['input'].assign(input_image))\n",
        "    \n",
        "    for i in range(num_iterations):\n",
        "        sess.run(train_step)\n",
        "        generated_image = sess.run(model['input'])\n",
        "\n",
        "        if i%20 == 0:\n",
        "            Jt, Jc, Js = sess.run([J, J_content, J_style])\n",
        "            print(\"Iteration \" + str(i) + \" :\")\n",
        "            print(\"total cost = \" + str(Jt))\n",
        "            print(\"content cost = \" + str(Jc))\n",
        "            print(\"style cost = \" + str(Js))\n",
        "            \n",
        "            save_image(\"output/\" + str(i) + \".png\", generated_image)\n",
        "    \n",
        "    save_image('output/generated_image.jpg', generated_image)\n",
        "    \n",
        "    return generated_image"
      ],
      "execution_count": 0,
      "outputs": []
    },
    {
      "cell_type": "code",
      "metadata": {
        "scrolled": true,
        "id": "lbeVvybARK_K",
        "colab_type": "code",
        "colab": {},
        "outputId": "b75aebb2-40e1-42c2-bb06-b639c99b17be"
      },
      "source": [
        "model_nn(sess, generated_image)"
      ],
      "execution_count": 0,
      "outputs": [
        {
          "output_type": "stream",
          "text": [
            "Iteration 0 :\n",
            "total cost = 1.63962e+09\n",
            "content cost = 14433.2\n",
            "style cost = 4.09869e+07\n",
            "Iteration 20 :\n",
            "total cost = 1.1358e+08\n",
            "content cost = 21711.8\n",
            "style cost = 2.83408e+06\n"
          ],
          "name": "stdout"
        }
      ]
    }
  ]
}